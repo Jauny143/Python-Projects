{
  "nbformat": 4,
  "nbformat_minor": 0,
  "metadata": {
    "colab": {
      "name": "Guess_A_Number.ipynb",
      "provenance": [],
      "authorship_tag": "ABX9TyPcilNDczkCwgLF+dYhy55s",
      "include_colab_link": true
    },
    "kernelspec": {
      "name": "python3",
      "display_name": "Python 3"
    },
    "language_info": {
      "name": "python"
    }
  },
  "cells": [
    {
      "cell_type": "markdown",
      "metadata": {
        "id": "view-in-github",
        "colab_type": "text"
      },
      "source": [
        "<a href=\"https://colab.research.google.com/github/Jauny143/Python-Projects/blob/main/Guess_A_Number.ipynb\" target=\"_parent\"><img src=\"https://colab.research.google.com/assets/colab-badge.svg\" alt=\"Open In Colab\"/></a>"
      ]
    },
    {
      "cell_type": "code",
      "metadata": {
        "colab": {
          "base_uri": "https://localhost:8080/"
        },
        "id": "0WNnN7d9Qhrk",
        "outputId": "f7669b7e-1f61-4071-9edb-88be5845a8b1"
      },
      "source": [
        "import random\n",
        "lb = int(input('Enter lower bound '))\n",
        "ub = int(input('Enter upper bound '))\n",
        "number = random.randint(lb,ub)\n",
        "user_nub = int(input('Guess a number between {0} and {1}: '.format(lb,ub)))\n",
        "count = 0\n",
        "while user_nub != number:\n",
        "  count = count+1\n",
        "  if user_nub > number:\n",
        "    print('Your number is bigger') \n",
        "    user_nub = int(input('Enter another guess '))\n",
        "  else:\n",
        "    print('Your number is less') \n",
        "    user_nub = int(input('Enter another guess '))\n",
        "else:\n",
        "  print('Your guess is correct')\n",
        "\n",
        "print('You found it in {} attempts'.format(count))"
      ],
      "execution_count": 9,
      "outputs": [
        {
          "output_type": "stream",
          "text": [
            "Enter lower bound 7\n",
            "Enter upper bound 35\n",
            "Guess a number between 7 and 35: 17\n",
            "Your number is less\n",
            "Enter another guess 33\n",
            "Your number is bigger\n",
            "Enter another guess 28\n",
            "Your number is bigger\n",
            "Enter another guess 25\n",
            "Your number is less\n",
            "Enter another guess 27\n",
            "Your guess is correct\n",
            "You found it in 4 attempts\n"
          ],
          "name": "stdout"
        }
      ]
    },
    {
      "cell_type": "code",
      "metadata": {
        "id": "4_v3eo13e3Gt"
      },
      "source": [
        ""
      ],
      "execution_count": null,
      "outputs": []
    }
  ]
}